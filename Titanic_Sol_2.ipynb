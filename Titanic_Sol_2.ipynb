{
  "nbformat": 4,
  "nbformat_minor": 0,
  "metadata": {
    "colab": {
      "name": "Titanic_Sol_2.ipynb",
      "version": "0.3.2",
      "provenance": [],
      "collapsed_sections": [],
      "include_colab_link": true
    },
    "kernelspec": {
      "name": "python3",
      "display_name": "Python 3"
    },
    "accelerator": "TPU"
  },
  "cells": [
    {
      "cell_type": "markdown",
      "metadata": {
        "id": "view-in-github",
        "colab_type": "text"
      },
      "source": [
        "<a href=\"https://colab.research.google.com/github/code-freeze/keras_machineLearning/blob/master/Titanic_Sol_2.ipynb\" target=\"_parent\"><img src=\"https://colab.research.google.com/assets/colab-badge.svg\" alt=\"Open In Colab\"/></a>"
      ]
    },
    {
      "cell_type": "code",
      "metadata": {
        "id": "RYxnUoLHVj-R",
        "colab_type": "code",
        "colab": {}
      },
      "source": [
        "import pandas as pd\n",
        "import zipfile"
      ],
      "execution_count": 0,
      "outputs": []
    },
    {
      "cell_type": "code",
      "metadata": {
        "id": "1OdJS5fOVxm7",
        "colab_type": "code",
        "colab": {}
      },
      "source": [
        "zipfile.ZipFile('titanic.zip').extractall()"
      ],
      "execution_count": 0,
      "outputs": []
    },
    {
      "cell_type": "code",
      "metadata": {
        "id": "01EO2NClV44l",
        "colab_type": "code",
        "colab": {}
      },
      "source": [
        "train=pd.read_csv('train.csv')\n",
        "test=pd.read_csv('test.csv')\n",
        "train.head()"
      ],
      "execution_count": 0,
      "outputs": []
    },
    {
      "cell_type": "markdown",
      "metadata": {
        "id": "-CJcYqvqWdRT",
        "colab_type": "text"
      },
      "source": [
        "Data Dictionary\n",
        "\n",
        "\n",
        "SibSp                   : sibling or spouse aboard titanic\n",
        "parch                   : parents or children aboard titanic\n",
        "Embarkment      : place of boarding **bold text**\n"
      ]
    },
    {
      "cell_type": "code",
      "metadata": {
        "id": "cOSsnH7bWw7Z",
        "colab_type": "code",
        "outputId": "e3a67092-8976-4671-9fb6-6dbdca56aa4d",
        "colab": {
          "base_uri": "https://localhost:8080/",
          "height": 35
        }
      },
      "source": [
        "train.shape"
      ],
      "execution_count": 0,
      "outputs": [
        {
          "output_type": "execute_result",
          "data": {
            "text/plain": [
              "(891, 12)"
            ]
          },
          "metadata": {
            "tags": []
          },
          "execution_count": 297
        }
      ]
    },
    {
      "cell_type": "code",
      "metadata": {
        "id": "5oaxkdPBXgYN",
        "colab_type": "code",
        "outputId": "7dc9afde-669e-450a-d863-5c94d6c8e219",
        "colab": {
          "base_uri": "https://localhost:8080/",
          "height": 35
        }
      },
      "source": [
        "test.shape"
      ],
      "execution_count": 0,
      "outputs": [
        {
          "output_type": "execute_result",
          "data": {
            "text/plain": [
              "(418, 11)"
            ]
          },
          "metadata": {
            "tags": []
          },
          "execution_count": 298
        }
      ]
    },
    {
      "cell_type": "markdown",
      "metadata": {
        "id": "5TzHOc0SX2zL",
        "colab_type": "text"
      },
      "source": [
        "**Visualizaton using matplotlib**"
      ]
    },
    {
      "cell_type": "code",
      "metadata": {
        "id": "p261jtd-X6UG",
        "colab_type": "code",
        "colab": {}
      },
      "source": [
        "import matplotlib.pyplot as plt\n",
        "%matplotlib inline\n",
        "import seaborn as sns\n",
        "sns.set()"
      ],
      "execution_count": 0,
      "outputs": []
    },
    {
      "cell_type": "code",
      "metadata": {
        "id": "V-9jv4aIaOBC",
        "colab_type": "code",
        "colab": {}
      },
      "source": [
        "def bar(feature):\n",
        "  survive=train[train['Survived']==1][feature].value_counts()\n",
        "  dead=train[train['Survived']==0][feature].value_counts()\n",
        "  df=pd.DataFrame([survive,dead])\n",
        "  print(df)\n",
        "  df.index=['Survive','Dead']\n",
        "  df.plot(kind='bar',stacked=True,figsize=(10,5))"
      ],
      "execution_count": 0,
      "outputs": []
    },
    {
      "cell_type": "code",
      "metadata": {
        "id": "9iG9s97larNs",
        "colab_type": "code",
        "outputId": "5ef21c33-794b-483a-c4fd-607fbbe82779",
        "colab": {
          "base_uri": "https://localhost:8080/",
          "height": 413
        }
      },
      "source": [
        "bar('Embarked')"
      ],
      "execution_count": 0,
      "outputs": [
        {
          "output_type": "stream",
          "text": [
            "            S   C   Q\n",
            "Embarked  217  93  30\n",
            "Embarked  427  75  47\n"
          ],
          "name": "stdout"
        },
        {
          "output_type": "display_data",
          "data": {
            "image/png": "[encoded data removed]",
            "text/plain": [
              "<Figure size 720x360 with 1 Axes>"
            ]
          },
          "metadata": {
            "tags": []
          }
        }
      ]
    },
    {
      "cell_type": "code",
      "metadata": {
        "id": "9wlsZ2ZbaN47",
        "colab_type": "code",
        "colab": {}
      },
      "source": [
        "cols=['Ticket']\n",
        "train=train.drop(cols,axis=1)\n",
        "test=test.drop(cols,axis=1)\n"
      ],
      "execution_count": 0,
      "outputs": []
    },
    {
      "cell_type": "code",
      "metadata": {
        "id": "5Q_Rg9ybhzxr",
        "colab_type": "code",
        "outputId": "10ddf983-1c23-4439-9f46-7f8501703df5",
        "colab": {
          "base_uri": "https://localhost:8080/",
          "height": 35
        }
      },
      "source": [
        "train.shape"
      ],
      "execution_count": 0,
      "outputs": [
        {
          "output_type": "execute_result",
          "data": {
            "text/plain": [
              "(891, 11)"
            ]
          },
          "metadata": {
            "tags": []
          },
          "execution_count": 303
        }
      ]
    },
    {
      "cell_type": "code",
      "metadata": {
        "id": "tZgXPOi1ikpX",
        "colab_type": "code",
        "outputId": "d9c436b6-9c9d-4d7b-c0e3-e8066976d865",
        "colab": {
          "base_uri": "https://localhost:8080/",
          "height": 35
        }
      },
      "source": [
        "test.shape"
      ],
      "execution_count": 0,
      "outputs": [
        {
          "output_type": "execute_result",
          "data": {
            "text/plain": [
              "(418, 10)"
            ]
          },
          "metadata": {
            "tags": []
          },
          "execution_count": 304
        }
      ]
    },
    {
      "cell_type": "code",
      "metadata": {
        "id": "pSXYYMu-idMq",
        "colab_type": "code",
        "colab": {}
      },
      "source": [
        "train_test_dataSet=[train,test]"
      ],
      "execution_count": 0,
      "outputs": []
    },
    {
      "cell_type": "code",
      "metadata": {
        "id": "whXAJtC5gnA1",
        "colab_type": "code",
        "outputId": "385281bf-5ddf-46a7-fcbd-0c02077b9ee1",
        "colab": {
          "base_uri": "https://localhost:8080/",
          "height": 230
        }
      },
      "source": [
        "i=0\n",
        "for dataset in train_test_dataSet:\n",
        "  dataset['Title']=dataset['Name'].str.extract('([A-Za-z]+)\\.',expand=False)\n",
        "  i=len(dataset)\n",
        "  print(i)\n",
        "test['Title'].value_counts()"
      ],
      "execution_count": 0,
      "outputs": [
        {
          "output_type": "stream",
          "text": [
            "891\n",
            "418\n"
          ],
          "name": "stdout"
        },
        {
          "output_type": "execute_result",
          "data": {
            "text/plain": [
              "Mr        240\n",
              "Miss       78\n",
              "Mrs        72\n",
              "Master     21\n",
              "Rev         2\n",
              "Col         2\n",
              "Dr          1\n",
              "Dona        1\n",
              "Ms          1\n",
              "Name: Title, dtype: int64"
            ]
          },
          "metadata": {
            "tags": []
          },
          "execution_count": 306
        }
      ]
    },
    {
      "cell_type": "code",
      "metadata": {
        "id": "x49BEiXTbgbG",
        "colab_type": "code",
        "colab": {}
      },
      "source": [
        "title_mapping={\"Mr\":0,\"Miss\":1,\"Mrs\":2,\"Master\":3,\"Dr\":3,\"Rev\":3,\"Col\":3,\"Major\":3,\"Mlle\":3,\"Countess\":3,\"Mme\":3,\"Lady\":3,\"Ms\":3,\n",
        "              \"Capt\":3,\"Don\":3,\"Jonkheer\":3,\"Sir\":3,\"Countless\":3,\"Dona\":3}"
      ],
      "execution_count": 0,
      "outputs": []
    },
    {
      "cell_type": "code",
      "metadata": {
        "id": "rzJVuLjEcSUC",
        "colab_type": "code",
        "colab": {}
      },
      "source": [
        " for dataset in train_test_dataSet:\n",
        "    dataset['Title']=dataset['Title'].map(title_mapping) "
      ],
      "execution_count": 0,
      "outputs": []
    },
    {
      "cell_type": "code",
      "metadata": {
        "id": "uyO9rav-d2Ja",
        "colab_type": "code",
        "colab": {}
      },
      "source": [
        "# bar('Title')"
      ],
      "execution_count": 0,
      "outputs": []
    },
    {
      "cell_type": "code",
      "metadata": {
        "id": "1_TYvdeFrT_Z",
        "colab_type": "code",
        "colab": {}
      },
      "source": [
        "train['Age'].fillna(train.groupby(\"Title\")[\"Age\"].transform(\"median\"),inplace=True)\n",
        "test['Age'].fillna(test.groupby(\"Title\")[\"Age\"].transform(\"median\"),inplace=True)"
      ],
      "execution_count": 0,
      "outputs": []
    },
    {
      "cell_type": "code",
      "metadata": {
        "id": "mQJvilFIr9Fp",
        "colab_type": "code",
        "colab": {}
      },
      "source": [
        "for dataset in train_test_dataSet:\n",
        "  dataset.loc[dataset['Age']<=16, 'Age']=0\n",
        "  dataset.loc[(dataset['Age']>16) & (dataset['Age']<=26), 'Age' ]=1\n",
        "  dataset.loc[(dataset['Age']>26) & (dataset['Age']<=36), 'Age' ]=2\n",
        "  dataset.loc[(dataset['Age']>36) & (dataset['Age']<=62), 'Age' ]=3\n",
        "  dataset.loc[dataset['Age']> 62,'Age']=4"
      ],
      "execution_count": 0,
      "outputs": []
    },
    {
      "cell_type": "code",
      "metadata": {
        "id": "CT8H0dWr2B_p",
        "colab_type": "code",
        "outputId": "4bd54667-94af-40ab-b7c5-ef5d2fd4c037",
        "colab": {
          "base_uri": "https://localhost:8080/",
          "height": 221
        }
      },
      "source": [
        "facet=sns.FacetGrid(train,hue='Survived',aspect=4)\n",
        "facet.map(sns.kdeplot,'Age',shade=True)\n",
        "facet.set(xlim=(0,train['Age'].max()))\n",
        "facet.add_legend()\n",
        "plt.show()"
      ],
      "execution_count": 0,
      "outputs": [
        {
          "output_type": "display_data",
          "data": {
            "image/png": "[encoded data removed]",
            "text/plain": [
              "<Figure size 918.05x216 with 1 Axes>"
            ]
          },
          "metadata": {
            "tags": []
          }
        }
      ]
    },
    {
      "cell_type": "code",
      "metadata": {
        "id": "UtwACJKc46iJ",
        "colab_type": "code",
        "outputId": "9ade04e4-ba9c-4fbc-9e01-15a836a7bb78",
        "colab": {
          "base_uri": "https://localhost:8080/",
          "height": 389
        }
      },
      "source": [
        "Pclass1=train[train['Pclass']==1]['Embarked'].value_counts()\n",
        "Pclass2=train[train['Pclass']==2]['Embarked'].value_counts()\n",
        "Pclass3=train[train['Pclass']==3]['Embarked'].value_counts()\n",
        "df=pd.DataFrame([Pclass1,Pclass2,Pclass3])\n",
        "df.index=['1st Class','2nd Class','3rd Class']\n",
        "df.plot(kind='bar',stacked=True,figsize=(10,5))"
      ],
      "execution_count": 0,
      "outputs": [
        {
          "output_type": "execute_result",
          "data": {
            "text/plain": [
              "<matplotlib.axes._subplots.AxesSubplot at 0x7f617dd68128>"
            ]
          },
          "metadata": {
            "tags": []
          },
          "execution_count": 313
        },
        {
          "output_type": "display_data",
          "data": {
            "image/png": "[encoded data removed]",
            "text/plain": [
              "<Figure size 720x360 with 1 Axes>"
            ]
          },
          "metadata": {
            "tags": []
          }
        }
      ]
    },
    {
      "cell_type": "code",
      "metadata": {
        "id": "jEhCF2Wv873s",
        "colab_type": "code",
        "colab": {}
      },
      "source": [
        "for dataset in train_test_dataSet:\n",
        "  dataset['Embarked']=dataset['Embarked'].fillna('S')\n",
        "\n",
        "embark_mapping={\"S\":0,\"C\":1,\"Q\":2}\n",
        "for dataset in train_test_dataSet:\n",
        "  dataset['Embarked']=dataset['Embarked'].map(embark_mapping)"
      ],
      "execution_count": 0,
      "outputs": []
    },
    {
      "cell_type": "code",
      "metadata": {
        "id": "MQiaTFoVpNNM",
        "colab_type": "code",
        "colab": {}
      },
      "source": [
        "train['Fare'].fillna(train.groupby('Pclass')['Fare'].transform(\"median\"),inplace=True)\n",
        "test['Fare'].fillna(test.groupby('Pclass')['Fare'].transform(\"median\"),inplace=True)"
      ],
      "execution_count": 0,
      "outputs": []
    },
    {
      "cell_type": "code",
      "metadata": {
        "id": "-nuVIi-NpNDo",
        "colab_type": "code",
        "outputId": "1c780e08-efa7-4d19-88fd-0e8fe92c94e2",
        "colab": {
          "base_uri": "https://localhost:8080/",
          "height": 221
        }
      },
      "source": [
        "facet=sns.FacetGrid(train,hue='Survived',aspect=4)\n",
        "facet.map(sns.kdeplot,'Fare',shade=True)\n",
        "facet.set(xlim=(0,train['Fare'].max()))\n",
        "facet.add_legend()\n",
        "plt.show()"
      ],
      "execution_count": 0,
      "outputs": [
        {
          "output_type": "display_data",
          "data": {
            "image/png": "[encoded data removed]",
            "text/plain": [
              "<Figure size 918.05x216 with 1 Axes>"
            ]
          },
          "metadata": {
            "tags": []
          }
        }
      ]
    },
    {
      "cell_type": "code",
      "metadata": {
        "id": "v_IpdUeMb_ts",
        "colab_type": "code",
        "colab": {}
      },
      "source": [
        "for dataset in train_test_dataSet:\n",
        "  dataset.loc[dataset['Fare']<=17,'Fare']=0\n",
        "  dataset.loc[(dataset['Fare']>17) & (dataset['Fare']<=30) ,'Fare']=1\n",
        "  dataset.loc[(dataset['Fare']>30) & (dataset['Fare']<=100),'Fare']=2\n",
        "  dataset.loc[dataset['Fare']>100,'Fare']=3"
      ],
      "execution_count": 0,
      "outputs": []
    },
    {
      "cell_type": "code",
      "metadata": {
        "id": "t5IoWy8hmlQR",
        "colab_type": "code",
        "colab": {}
      },
      "source": [
        "for dataset in train_test_dataSet:\n",
        "  dataset['Cabin']=dataset['Cabin'].str[:1]"
      ],
      "execution_count": 0,
      "outputs": []
    },
    {
      "cell_type": "code",
      "metadata": {
        "id": "c2GxqpCmonHP",
        "colab_type": "code",
        "outputId": "a6d4ec51-35b3-475b-ba45-ed4c5559a787",
        "colab": {
          "base_uri": "https://localhost:8080/",
          "height": 88
        }
      },
      "source": [
        "PClass1=train[train['Pclass']==1]['Cabin'].value_counts()\n",
        "PClass2=train[train['Pclass']==2]['Cabin'].value_counts()\n",
        "PClass3=train[train['Pclass']==3]['Cabin'].value_counts()\n",
        "PClass3"
      ],
      "execution_count": 0,
      "outputs": [
        {
          "output_type": "execute_result",
          "data": {
            "text/plain": [
              "F    5\n",
              "G    4\n",
              "E    3\n",
              "Name: Cabin, dtype: int64"
            ]
          },
          "metadata": {
            "tags": []
          },
          "execution_count": 319
        }
      ]
    },
    {
      "cell_type": "code",
      "metadata": {
        "id": "KuVWupUkpHRh",
        "colab_type": "code",
        "outputId": "990b5026-c4a5-4f41-f7ea-d871e6861818",
        "colab": {
          "base_uri": "https://localhost:8080/",
          "height": 649
        }
      },
      "source": [
        "df=pd.DataFrame([PClass1,PClass2,PClass3])\n",
        "df.index=['First','Second','Third']\n",
        "df.plot(kind='bar',stacked=True,figsize=(20,10)) "
      ],
      "execution_count": 0,
      "outputs": [
        {
          "output_type": "execute_result",
          "data": {
            "text/plain": [
              "<matplotlib.axes._subplots.AxesSubplot at 0x7f617dc6b6a0>"
            ]
          },
          "metadata": {
            "tags": []
          },
          "execution_count": 320
        },
        {
          "output_type": "display_data",
          "data": {
            "image/png": "[encoded data removed]",
            "text/plain": [
              "<Figure size 1440x720 with 1 Axes>"
            ]
          },
          "metadata": {
            "tags": []
          }
        }
      ]
    },
    {
      "cell_type": "code",
      "metadata": {
        "id": "L7DR-p_1rmW-",
        "colab_type": "code",
        "colab": {}
      },
      "source": [
        "cabin_mapping={\"A\":0,\"B\":0.4,\"C\":0.8,\"D\":1.2,\"E\":1.6,\"F\":2,\"G\":2.4,\"T\":2.8}"
      ],
      "execution_count": 0,
      "outputs": []
    },
    {
      "cell_type": "code",
      "metadata": {
        "id": "4gEzvo_ormO-",
        "colab_type": "code",
        "colab": {}
      },
      "source": [
        "for dataset in train_test_dataSet:\n",
        "  dataset['Cabin']=dataset['Cabin'].map(cabin_mapping)"
      ],
      "execution_count": 0,
      "outputs": []
    },
    {
      "cell_type": "code",
      "metadata": {
        "id": "A19d87UnsNjL",
        "colab_type": "code",
        "colab": {}
      },
      "source": [
        "train['Cabin'].fillna(train.groupby('Pclass')['Cabin'].transform('median'),inplace=True)\n",
        "test['Cabin'].fillna(test.groupby('Pclass')['Cabin'].transform('median'),inplace=True)"
      ],
      "execution_count": 0,
      "outputs": []
    },
    {
      "cell_type": "code",
      "metadata": {
        "id": "nAheP9VlIJTW",
        "colab_type": "code",
        "colab": {}
      },
      "source": [
        "train['FamilySize']=train['SibSp']+train['Parch']+1\n",
        "test['FamilySize']=test['SibSp']+test['Parch']+1"
      ],
      "execution_count": 0,
      "outputs": []
    },
    {
      "cell_type": "code",
      "metadata": {
        "id": "VqqC52pMJVsc",
        "colab_type": "code",
        "colab": {}
      },
      "source": [
        "# facet=sns.FacetGrid(train,hue='Survived',aspect=4)\n",
        "# facet.map(sns.kdeplot,'FamilySize',shade=True)\n",
        "# facet.set(xlim=(0,train['FamilySize'].max()))\n",
        "# facet.add_legend()\n",
        "# plt.xlim()"
      ],
      "execution_count": 0,
      "outputs": []
    },
    {
      "cell_type": "code",
      "metadata": {
        "id": "GX7u_3w9MUYc",
        "colab_type": "code",
        "colab": {}
      },
      "source": [
        "family_mapping={1:0,2:0.4,3:0.8,4:1.2,5:1.6,6:2,7:2.4,8:2.8,9:3.2,10:3.6,11:4}\n",
        "sex_mapping={\"male\":0,\"female\":1}"
      ],
      "execution_count": 0,
      "outputs": []
    },
    {
      "cell_type": "code",
      "metadata": {
        "id": "ErDghqZ9M_Vi",
        "colab_type": "code",
        "colab": {}
      },
      "source": [
        "for dataset in train_test_dataSet:\n",
        "  dataset['FamilySize']=dataset['FamilySize'].map(family_mapping)\n",
        "  dataset['Sex']=dataset['Sex'].map(sex_mapping)"
      ],
      "execution_count": 0,
      "outputs": []
    },
    {
      "cell_type": "code",
      "metadata": {
        "id": "JUyV_w23Nf1s",
        "colab_type": "code",
        "colab": {}
      },
      "source": [
        "drop_set=['Parch','SibSp','Name']\n",
        "train=train.drop(drop_set,axis=1)\n",
        "test=test.drop(drop_set,axis=1)\n",
        "train=train.drop('PassengerId',axis=1)"
      ],
      "execution_count": 0,
      "outputs": []
    },
    {
      "cell_type": "code",
      "metadata": {
        "id": "EeYfwb7AOR-d",
        "colab_type": "code",
        "colab": {}
      },
      "source": [
        "train_data=train.drop('Survived',axis=1)\n",
        "target=train['Survived']\n",
        "train_data.head()\n",
        "target.head()\n",
        "test_data=test.drop('PassengerId',axis=1)"
      ],
      "execution_count": 0,
      "outputs": []
    },
    {
      "cell_type": "markdown",
      "metadata": {
        "id": "gyvzjyUgZofk",
        "colab_type": "text"
      },
      "source": [
        "**MODELLING**"
      ]
    },
    {
      "cell_type": "code",
      "metadata": {
        "id": "9tz84hrxdGgA",
        "colab_type": "code",
        "colab": {}
      },
      "source": [
        "from sklearn.neighbors import KNeighborsClassifier\n",
        "from sklearn.tree import DecisionTreeClassifier\n",
        "from sklearn.naive_bayes import GaussianNB\n",
        "from sklearn.ensemble import RandomForestClassifier\n",
        "import numpy as np\n",
        "from sklearn.svm import SVC"
      ],
      "execution_count": 0,
      "outputs": []
    },
    {
      "cell_type": "code",
      "metadata": {
        "id": "tCefcRaivu71",
        "colab_type": "code",
        "colab": {}
      },
      "source": [
        ""
      ],
      "execution_count": 0,
      "outputs": []
    },
    {
      "cell_type": "code",
      "metadata": {
        "id": "j_txeWWDws9O",
        "colab_type": "code",
        "colab": {}
      },
      "source": [
        "from sklearn.model_selection import cross_val_score\n",
        "from sklearn.model_selection import KFold\n",
        "kfold=KFold(n_splits=50,shuffle=True,random_state=1)"
      ],
      "execution_count": 0,
      "outputs": []
    },
    {
      "cell_type": "markdown",
      "metadata": {
        "id": "6Kz50RAGxFVL",
        "colab_type": "text"
      },
      "source": [
        "**kNN method for classifcation**"
      ]
    },
    {
      "cell_type": "code",
      "metadata": {
        "id": "eWOWqI-0xEwV",
        "colab_type": "code",
        "colab": {}
      },
      "source": [
        "clf=KNeighborsClassifier(n_neighbors=13)\n",
        "knn_score=cross_val_score(clf,train_data,target,scoring='accuracy',cv=kfold,n_jobs=1)\n",
        "knn_score=round(np.mean(knn_score)*100,2)"
      ],
      "execution_count": 0,
      "outputs": []
    },
    {
      "cell_type": "markdown",
      "metadata": {
        "id": "0dKVfToq7_MT",
        "colab_type": "text"
      },
      "source": [
        "**Decision Tree**"
      ]
    },
    {
      "cell_type": "code",
      "metadata": {
        "id": "bWdqarqp8CPo",
        "colab_type": "code",
        "colab": {}
      },
      "source": [
        "tree_clf=DecisionTreeClassifier()\n",
        "tree_score=cross_val_score(tree_clf,train_data,target,scoring='accuracy',cv=kfold,n_jobs=1)\n",
        "tree_score=round(np.mean(tree_score)*100,2)"
      ],
      "execution_count": 0,
      "outputs": []
    },
    {
      "cell_type": "markdown",
      "metadata": {
        "id": "t7PGLexn8k_2",
        "colab_type": "text"
      },
      "source": [
        "**Random Forest**"
      ]
    },
    {
      "cell_type": "code",
      "metadata": {
        "id": "rcvAy0sk8mos",
        "colab_type": "code",
        "colab": {}
      },
      "source": [
        "r_forest_clf=RandomForestClassifier(n_estimators=13)\n",
        "r_forest_score=cross_val_score(r_forest_clf,train_data,target,scoring='accuracy',cv=kfold,n_jobs=1)\n",
        "r_forest_score=round(np.mean(r_forest_score)*100,2)"
      ],
      "execution_count": 0,
      "outputs": []
    },
    {
      "cell_type": "markdown",
      "metadata": {
        "id": "BqNae89284Cj",
        "colab_type": "text"
      },
      "source": [
        "**Naive Baye**s"
      ]
    },
    {
      "cell_type": "code",
      "metadata": {
        "id": "CNUgMI7H8639",
        "colab_type": "code",
        "colab": {}
      },
      "source": [
        "n_bayes_clf=GaussianNB()\n",
        "n_bayes_score=cross_val_score(n_bayes_clf,train_data,target,scoring='accuracy',cv=kfold,n_jobs=1)\n",
        "n_bayes_score=round(np.mean(n_bayes_score)*100,2)"
      ],
      "execution_count": 0,
      "outputs": []
    },
    {
      "cell_type": "markdown",
      "metadata": {
        "id": "mrXgT6Ir9L8p",
        "colab_type": "text"
      },
      "source": [
        "**SVM**"
      ]
    },
    {
      "cell_type": "code",
      "metadata": {
        "id": "5_1DK-wF9KxA",
        "colab_type": "code",
        "outputId": "25bf2257-97c5-4a41-c1cf-576f3d4e7164",
        "colab": {
          "base_uri": "https://localhost:8080/",
          "height": 70
        }
      },
      "source": [
        "svm_clf=SVC(gamma='scale')\n",
        "svm_score=cross_val_score(svm_clf,train_data,target,scoring='accuracy',cv=kfold,n_jobs=1,verbose=True)\n",
        "svm_score=round(np.mean(svm_score)*100,2)\n",
        "svm_score"
      ],
      "execution_count": 0,
      "outputs": [
        {
          "output_type": "stream",
          "text": [
            "[Parallel(n_jobs=1)]: Using backend SequentialBackend with 1 concurrent workers.\n",
            "[Parallel(n_jobs=1)]: Done  50 out of  50 | elapsed:    1.4s finished\n"
          ],
          "name": "stderr"
        },
        {
          "output_type": "execute_result",
          "data": {
            "text/plain": [
              "83.51"
            ]
          },
          "metadata": {
            "tags": []
          },
          "execution_count": 350
        }
      ]
    },
    {
      "cell_type": "code",
      "metadata": {
        "id": "H2gzYV51_wqW",
        "colab_type": "code",
        "colab": {}
      },
      "source": [
        ""
      ],
      "execution_count": 0,
      "outputs": []
    },
    {
      "cell_type": "markdown",
      "metadata": {
        "id": "jpvZkPYp99M8",
        "colab_type": "text"
      },
      "source": [
        "**TESTING**"
      ]
    },
    {
      "cell_type": "code",
      "metadata": {
        "id": "jP8CxNVR9-1v",
        "colab_type": "code",
        "colab": {}
      },
      "source": [
        "svm_clf.fit(train_data,target)\n",
        "prediction=svm_clf.predict(test_data)"
      ],
      "execution_count": 0,
      "outputs": []
    },
    {
      "cell_type": "code",
      "metadata": {
        "id": "n2bjZJ84B8T7",
        "colab_type": "code",
        "colab": {}
      },
      "source": [
        "submission=pd.DataFrame({ \"PassengerId\":  test['PassengerId'],\"Survived\": prediction})\n",
        "submission.to_csv('titanic_submission.csv',index=False)"
      ],
      "execution_count": 0,
      "outputs": []
    },
    {
      "cell_type": "markdown",
      "metadata": {
        "id": "oZEFpSNTB8BH",
        "colab_type": "text"
      },
      "source": [
        ""
      ]
    }
  ]
}